{
 "cells": [
  {
   "cell_type": "code",
   "execution_count": 2,
   "id": "027f82e1",
   "metadata": {},
   "outputs": [
    {
     "data": {
      "text/plain": [
       "0         03/25/93 Total time of visit (in minutes):\\n\n",
       "1                       6/18/85 Primary Care Doctor:\\n\n",
       "2    sshe plans to move as of 7/8/71 In-Home Servic...\n",
       "3                7 on 9/27/75 Audit C Score Current:\\n\n",
       "4    2/6/96 sleep studyPain Treatment Pain Level (N...\n",
       "5                    .Per 7/06/79 Movement D/O note:\\n\n",
       "6    4, 5/18/78 Patient's thoughts about current su...\n",
       "7    10/24/89 CPT Code: 90801 - Psychiatric Diagnos...\n",
       "8                         3/7/86 SOS-10 Total Score:\\n\n",
       "9             (4/10/71)Score-1Audit C Score Current:\\n\n",
       "dtype: object"
      ]
     },
     "execution_count": 2,
     "metadata": {},
     "output_type": "execute_result"
    }
   ],
   "source": [
    "import pandas as pd\n",
    "import numpy as np \n",
    "\n",
    "doc = []\n",
    "with open(\"date.txt\") as file:\n",
    "    for line in file:\n",
    "        doc.append(line)\n",
    "\n",
    "df = pd.Series(doc)\n",
    "df.head(10)"
   ]
  },
  {
   "cell_type": "code",
   "execution_count": 3,
   "id": "abcd39ab",
   "metadata": {},
   "outputs": [
    {
     "data": {
      "text/plain": [
       "0                     \n",
       "1         * 04/20/2009\n",
       "2             04/20/09\n",
       "3              4/20/09\n",
       "4               4/3/09\n",
       "5        * Mar-20-2009\n",
       "6         Mar 20, 2009\n",
       "7       March 20, 2009\n",
       "8        Mar. 20, 2009\n",
       "9          Mar 20 2009\n",
       "10       * 20 Mar 2009\n",
       "11       20 March 2009\n",
       "12        20 Mar. 2009\n",
       "13      20 March, 2009\n",
       "14    * Mar 20th, 2009\n",
       "15      Mar 21st, 2009\n",
       "16      Mar 22nd, 2009\n",
       "17          * Feb 2009\n",
       "18            Sep 2009\n",
       "19            Oct 2010\n",
       "20            * 6/2008\n",
       "21             12/2009\n",
       "22              * 2009\n",
       "23                2010\n",
       "dtype: object"
      ]
     },
     "execution_count": 3,
     "metadata": {},
     "output_type": "execute_result"
    }
   ],
   "source": [
    "text_test='''\n",
    "* 04/20/2009; 04/20/09; 4/20/09; 4/3/09\n",
    "* Mar-20-2009; Mar 20, 2009; March 20, 2009;  Mar. 20, 2009; Mar 20 2009\n",
    "* 20 Mar 2009; 20 March 2009; 20 Mar. 2009; 20 March, 2009\n",
    "* Mar 20th, 2009; Mar 21st, 2009; Mar 22nd, 2009\n",
    "* Feb 2009; Sep 2009; Oct 2010\n",
    "* 6/2008; 12/2009\n",
    "* 2009; 2010\n",
    "'''\n",
    "\n",
    "\n",
    "doc=[x.strip() for y in text_test.splitlines() for x in y.split(\";\")]\n",
    "df_test = pd.Series(doc)\n",
    "df_test"
   ]
  },
  {
   "cell_type": "code",
   "execution_count": 7,
   "id": "15abc9fa",
   "metadata": {},
   "outputs": [
    {
     "data": {
      "text/plain": [
       "0           NaT\n",
       "1    2009-04-20\n",
       "2    2009-04-20\n",
       "3    2009-04-20\n",
       "4    2009-04-03\n",
       "5    2009-03-20\n",
       "6    2009-03-20\n",
       "7    2009-03-20\n",
       "8    2009-03-20\n",
       "9    2009-03-20\n",
       "10   2009-03-20\n",
       "11   2009-03-20\n",
       "12   2009-03-20\n",
       "13   2009-03-20\n",
       "14   2009-03-20\n",
       "15   2009-03-21\n",
       "16   2009-03-22\n",
       "17   2009-02-01\n",
       "18   2009-09-01\n",
       "19   2010-10-01\n",
       "20   2008-06-01\n",
       "21   2009-12-01\n",
       "22   2009-01-01\n",
       "23   2010-01-01\n",
       "Name: re, dtype: datetime64[ns]"
      ]
     },
     "execution_count": 7,
     "metadata": {},
     "output_type": "execute_result"
    }
   ],
   "source": [
    "def date_sorter(df):\n",
    "    \n",
    "    \n",
    "    \n",
    "    # There are 4 formats for the dates: 1) Dates are in numbers 2) Dates are in text 3) Dates without days, only month and year\n",
    "    #Dates are in numbers\n",
    "    re1=r\"(\\d{1,2}[-/\\.]{1}\\d{1,2}[-/\\.]{1}(\\d{2}\\b|\\d{4}\\b))\"\n",
    "    df1=pd.DataFrame()\n",
    "    df1['re1'] = df.str.extract(re1)[0]\n",
    "    \n",
    "    #month day year; \n",
    "    re2=r\"((?:Jan|Feb|Mar|Apr|May|Jun|Jul|Aug|Sep|Oct|Nov|Dec){1}[a-z]*\\b[\\.,]?[\\s\\-]\\d{1,2}(?:(?:st)|(?:th)|(?:nd))?[\\.,]?[\\s\\-](\\d{2}\\b|\\d{4}\\b))\"\n",
    "    df1['re2'] = df.str.extract(re2)[0]\n",
    "    \n",
    "    #day month year; \n",
    "    re3=r\"(\\d{1,2}(?:(?:st)|(?:th)|(?:nd))?[\\.,]?[\\s\\-](?:Jan|Feb|Mar|Apr|May|Jun|Jul|Aug|Sep|Oct|Nov|Dec){1}[a-z]*\\b[\\.,]?[\\s\\-](\\d{2}\\b|\\d{4}\\b))\"\n",
    "    df1['re3'] = df.str.extract(re3)[0]\n",
    "  \n",
    "    \n",
    "    # month year; \n",
    "    re4=r\"((?:(?:Jan|Feb|Mar|Apr|May|Jun|Jul|Aug|Sep|Oct|Nov|Dec){1}[a-z]*)(?:[\\.,]?[\\s\\-/](\\d{2}\\b|\\d{4}\\b)))\"\n",
    "    df1['re4'] = df.str.extract(re4)[0]\n",
    "    \n",
    "    # month date year; \n",
    "    re5=r\"(\\d{1,2}/\\d{4})\"\n",
    "    df1['re5'] = df.str.extract(re5)[0]  \n",
    "    \n",
    "    # year\n",
    "    re6=r\"(\\d{4})\"\n",
    "    df1['re6'] = df.str.extract(re6)\n",
    "    \n",
    "    #df2=df1.dropna(how='all')\n",
    "    df2=df1.copy()    \n",
    "    df2['re']= df2['re1'].combine_first(df2['re2'])\\\n",
    "    .combine_first(df2['re3']).combine_first(df2['re4']).combine_first(df2['re5']) .combine_first(df2['re6']) \n",
    "    df2['re']=df2['re'].replace('Decemeber','December',regex=True).replace('Janaury','January',regex=True)\n",
    "    df2['re']=pd.to_datetime(df2['re'])\n",
    "\n",
    "    #df3=df2['re'].sort_values().index\n",
    "\n",
    "    return  df2['re']\n",
    "\n",
    "date_sorter(df_test)\n"
   ]
  },
  {
   "cell_type": "code",
   "execution_count": 8,
   "id": "5f23f4da",
   "metadata": {},
   "outputs": [
    {
     "data": {
      "text/plain": [
       "0     1993-03-25\n",
       "1     1985-06-18\n",
       "2     2071-07-08\n",
       "3     1975-09-27\n",
       "4     1996-02-06\n",
       "         ...    \n",
       "495   1979-01-01\n",
       "496   2006-01-01\n",
       "497   2008-01-01\n",
       "498   2005-01-01\n",
       "499   1980-01-01\n",
       "Name: re, Length: 500, dtype: datetime64[ns]"
      ]
     },
     "execution_count": 8,
     "metadata": {},
     "output_type": "execute_result"
    }
   ],
   "source": [
    "date_sorter(df)\n"
   ]
  },
  {
   "cell_type": "code",
   "execution_count": null,
   "id": "e6d8f47d",
   "metadata": {},
   "outputs": [],
   "source": []
  }
 ],
 "metadata": {
  "kernelspec": {
   "display_name": "Python 3 (ipykernel)",
   "language": "python",
   "name": "python3"
  },
  "language_info": {
   "codemirror_mode": {
    "name": "ipython",
    "version": 3
   },
   "file_extension": ".py",
   "mimetype": "text/x-python",
   "name": "python",
   "nbconvert_exporter": "python",
   "pygments_lexer": "ipython3",
   "version": "3.10.9"
  }
 },
 "nbformat": 4,
 "nbformat_minor": 5
}
