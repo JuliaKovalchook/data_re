{
 "cells": [
  {
   "cell_type": "code",
   "execution_count": 1,
   "id": "027f82e1",
   "metadata": {},
   "outputs": [
    {
     "data": {
      "text/plain": [
       "0         03/25/93 Total time of visit (in minutes):\\n\n",
       "1                       6/18/85 Primary Care Doctor:\\n\n",
       "2    sshe plans to move as of 7/8/71 In-Home Servic...\n",
       "3                7 on 9/27/75 Audit C Score Current:\\n\n",
       "4    2/6/96 sleep studyPain Treatment Pain Level (N...\n",
       "5                    .Per 7/06/79 Movement D/O note:\\n\n",
       "6    4, 5/18/78 Patient's thoughts about current su...\n",
       "7    10/24/89 CPT Code: 90801 - Psychiatric Diagnos...\n",
       "8                         3/7/86 SOS-10 Total Score:\\n\n",
       "9             (4/10/71)Score-1Audit C Score Current:\\n\n",
       "dtype: object"
      ]
     },
     "execution_count": 1,
     "metadata": {},
     "output_type": "execute_result"
    }
   ],
   "source": [
    "import pandas as pd\n",
    "import numpy as np \n",
    "\n",
    "doc = []\n",
    "with open(\"date.txt\") as file:\n",
    "    for line in file:\n",
    "        doc.append(line)\n",
    "\n",
    "df = pd.Series(doc)\n",
    "df.head(10)"
   ]
  },
  {
   "cell_type": "code",
   "execution_count": 72,
   "id": "ea89baed",
   "metadata": {},
   "outputs": [
    {
     "name": "stdout",
     "output_type": "stream",
     "text": [
      "50 yo DWF with a history of alcohol use disorder, anxiety and depression, and prior trauma history, no prior psychiatric treatment referred for care at ZMH by PCP.  She is seeking help mainly around management of anxiety, and it is unclear to what extent alcohol (which she has not consumed since May 2016) is affecting her current situation.  Biological factors include likely primary mood and/or anxiety disorders (perhaps depression with panic attacks), consequences of long-term alcohol use. Important psychological factors include the loss of three improtant family members and the prior trauma at multiple times. Her social situation reflects isolation and an unfortunately high level of dependence on her children.  One important challenge is her discomfort with opening up and seeking care, which may benefit from positive treatment alliances.\n",
      "\n",
      "6e. monitor pt's depressive experience in context of adjusting to upcoming retirement from work in 5/2016 and realtionships with his brother, son and daughter This visit for a one-time consultation only? No\n",
      "\n"
     ]
    }
   ],
   "source": [
    "print(df.iloc[231])\n",
    "print(df.iloc[427])\n"
   ]
  },
  {
   "cell_type": "code",
   "execution_count": 2,
   "id": "abcd39ab",
   "metadata": {},
   "outputs": [
    {
     "data": {
      "text/plain": [
       "0                     \n",
       "1         * 04/20/2009\n",
       "2             04/20/09\n",
       "3              4/20/09\n",
       "4               4/3/09\n",
       "5        * Mar-20-2009\n",
       "6         Mar 20, 2009\n",
       "7       March 20, 2009\n",
       "8        Mar. 20, 2009\n",
       "9          Mar 20 2009\n",
       "10       * 20 Mar 2009\n",
       "11       20 March 2009\n",
       "12        20 Mar. 2009\n",
       "13      20 March, 2009\n",
       "14    * Mar 20th, 2009\n",
       "15      Mar 21st, 2009\n",
       "16      Mar 22nd, 2009\n",
       "17          * Feb 2009\n",
       "18            Sep 2009\n",
       "19            Oct 2010\n",
       "20            * 6/2008\n",
       "21             12/2009\n",
       "22              * 2009\n",
       "23                2010\n",
       "dtype: object"
      ]
     },
     "execution_count": 2,
     "metadata": {},
     "output_type": "execute_result"
    }
   ],
   "source": [
    "text_test='''\n",
    "* 04/20/2009; 04/20/09; 4/20/09; 4/3/09\n",
    "* Mar-20-2009; Mar 20, 2009; March 20, 2009;  Mar. 20, 2009; Mar 20 2009\n",
    "* 20 Mar 2009; 20 March 2009; 20 Mar. 2009; 20 March, 2009\n",
    "* Mar 20th, 2009; Mar 21st, 2009; Mar 22nd, 2009\n",
    "* Feb 2009; Sep 2009; Oct 2010\n",
    "* 6/2008; 12/2009\n",
    "* 2009; 2010\n",
    "'''\n",
    "\n",
    "\n",
    "doc=[x.strip() for y in text_test.splitlines() for x in y.split(\";\")]\n",
    "df_test = pd.Series(doc)\n",
    "df_test"
   ]
  },
  {
   "cell_type": "code",
   "execution_count": 74,
   "id": "15abc9fa",
   "metadata": {},
   "outputs": [
    {
     "data": {
      "text/plain": [
       "0        9\n",
       "1       84\n",
       "2        2\n",
       "3       53\n",
       "4       28\n",
       "      ... \n",
       "495    231\n",
       "496    141\n",
       "497    186\n",
       "498    161\n",
       "499    413\n",
       "Length: 500, dtype: int64"
      ]
     },
     "execution_count": 74,
     "metadata": {},
     "output_type": "execute_result"
    }
   ],
   "source": [
    "def date_sorter(df):\n",
    "    \n",
    "    \n",
    "    \n",
    "    # There are 6 formats for the dates\n",
    "    # Dates are in numbers\n",
    "    re1=r\"(\\d{1,2}[-/\\.]{1}\\d{1,2}[-/\\.]{1}(\\d{2}\\b|\\d{4}\\b))\"\n",
    "    df1=pd.DataFrame()\n",
    "    df1['re1'] = df.str.extract(re1)[0]\n",
    "    \n",
    "    # month day year; \n",
    "    re2=r\"((?:Jan|Feb|Mar|Apr|May|Jun|Jul|Aug|Sep|Oct|Nov|Dec){1}[a-z]*\\b[\\.,]?[\\s\\-]\\d{1,2}(?:(?:st)|(?:th)|(?:nd))?[\\.,]?[\\s\\-](\\d{2}\\b|\\d{4}\\b))\"\n",
    "    df1['re2'] = df.str.extract(re2)[0]\n",
    "    \n",
    "    # day month year; \n",
    "    re3=r\"(\\d{1,2}(?:(?:st)|(?:th)|(?:nd))?[\\.,]?[\\s\\-](?:Jan|Feb|Mar|Apr|May|Jun|Jul|Aug|Sep|Oct|Nov|Dec){1}[a-z]*\\b[\\.,]?[\\s\\-](\\d{2}\\b|\\d{4}\\b))\"\n",
    "    df1['re3'] = df.str.extract(re3)[0]\n",
    "  \n",
    "    \n",
    "    # month year; \n",
    "    re4=r\"((?:(?:Jan|Feb|Mar|Apr|May|Jun|Jul|Aug|Sep|Oct|Nov|Dec){1}[a-z]*)(?:[\\.,]?[\\s\\-/](\\d{2}\\b|\\d{4}\\b)))\"\n",
    "    df1['re4'] = df.str.extract(re4)[0]\n",
    "    \n",
    "    # month (number) year; \n",
    "    re5=r\"(\\d{1,2}/\\d{4})\"\n",
    "    df1['re5'] = df.str.extract(re5)[0]  \n",
    "    \n",
    "    # year\n",
    "    re6=r\"(\\d{4})\"\n",
    "    df1['re6'] = df.str.extract(re6)\n",
    "    \n",
    "    # df2=df1.dropna(how='all')\n",
    "    df2=df1.copy()    \n",
    "    df2['re']= df2['re1'].combine_first(df2['re2'])\\\n",
    "    .combine_first(df2['re3']).combine_first(df2['re4']).combine_first(df2['re5']) .combine_first(df2['re6']) \n",
    "    df2['re']=df2['re'].replace('Decemeber','December',regex=True).replace('Janaury','January',regex=True)\n",
    "    \n",
    "    df2['re']=pd.to_datetime(df2['re'])\n",
    "    df2['re']=df2['re'].astype(str)\n",
    "\n",
    "    df2['re']=df2['re'].replace(r'(20)([6-9]{1}\\d{1})', r'19\\2', regex=True)\n",
    "    df2['re']=df2['re'].astype('datetime64[ns]')\n",
    "    \n",
    "    df3=pd.Series(df2['re'].sort_values(ascending=True).index)\n",
    "\n",
    "    return df3\n",
    "\n",
    "df_result=date_sorter(df)\n",
    "df_result\n"
   ]
  },
  {
   "cell_type": "code",
   "execution_count": 66,
   "id": "84413320",
   "metadata": {},
   "outputs": [
    {
     "name": "stdout",
     "output_type": "stream",
     "text": [
      "re1           NaN\n",
      "re2           NaN\n",
      "re3           NaN\n",
      "re4      May 2016\n",
      "re5           NaN\n",
      "re6          2016\n",
      "re     2016-05-01\n",
      "Name: 231, dtype: object\n",
      "re1           NaN\n",
      "re2           NaN\n",
      "re3           NaN\n",
      "re4           NaN\n",
      "re5        5/2016\n",
      "re6          2016\n",
      "re     2016-05-01\n",
      "Name: 427, dtype: object\n"
     ]
    }
   ],
   "source": [
    "print(df_result.iloc[231])\n",
    "print(df_result.iloc[427])\n",
    "\n"
   ]
  },
  {
   "cell_type": "code",
   "execution_count": 54,
   "id": "23602e3e",
   "metadata": {},
   "outputs": [
    {
     "data": {
      "text/plain": [
       "'50 yo DWF with a history of alcohol use disorder, anxiety and depression, and prior trauma history, no prior psychiatric treatment referred for care at ZMH by PCP.  She is seeking help mainly around management of anxiety, and it is unclear to what extent alcohol (which she has not consumed since May 2016) is affecting her current situation.  Biological factors include likely primary mood and/or anxiety disorders (perhaps depression with panic attacks), consequences of long-term alcohol use. Important psychological factors include the loss of three improtant family members and the prior trauma at multiple times. Her social situation reflects isolation and an unfortunately high level of dependence on her children.  One important challenge is her discomfort with opening up and seeking care, which may benefit from positive treatment alliances.\\n'"
      ]
     },
     "execution_count": 54,
     "metadata": {},
     "output_type": "execute_result"
    }
   ],
   "source": [
    "df.iloc[231]"
   ]
  },
  {
   "cell_type": "code",
   "execution_count": 55,
   "id": "37101de9",
   "metadata": {},
   "outputs": [
    {
     "data": {
      "text/plain": [
       "\"6e. monitor pt's depressive experience in context of adjusting to upcoming retirement from work in 5/2016 and realtionships with his brother, son and daughter This visit for a one-time consultation only? No\\n\""
      ]
     },
     "execution_count": 55,
     "metadata": {},
     "output_type": "execute_result"
    }
   ],
   "source": [
    "df.iloc[427]"
   ]
  },
  {
   "cell_type": "code",
   "execution_count": 7,
   "id": "5f23f4da",
   "metadata": {},
   "outputs": [
    {
     "data": {
      "text/plain": [
       "474   1972-01-01\n",
       "153   1972-01-13\n",
       "129   1972-05-06\n",
       "225   1972-06-15\n",
       "171   1972-10-04\n",
       "         ...    \n",
       "28    2071-09-12\n",
       "13    2072-01-26\n",
       "98    2072-05-13\n",
       "111   2072-06-10\n",
       "31    2072-07-20\n",
       "Name: re, Length: 500, dtype: datetime64[ns]"
      ]
     },
     "execution_count": 7,
     "metadata": {},
     "output_type": "execute_result"
    }
   ],
   "source": [
    "date_sorter(df)\n"
   ]
  },
  {
   "cell_type": "code",
   "execution_count": null,
   "id": "5617bc41",
   "metadata": {},
   "outputs": [],
   "source": []
  }
 ],
 "metadata": {
  "kernelspec": {
   "display_name": "Python 3 (ipykernel)",
   "language": "python",
   "name": "python3"
  },
  "language_info": {
   "codemirror_mode": {
    "name": "ipython",
    "version": 3
   },
   "file_extension": ".py",
   "mimetype": "text/x-python",
   "name": "python",
   "nbconvert_exporter": "python",
   "pygments_lexer": "ipython3",
   "version": "3.10.9"
  }
 },
 "nbformat": 4,
 "nbformat_minor": 5
}
